{
 "cells": [
  {
   "cell_type": "code",
   "execution_count": 1,
   "metadata": {},
   "outputs": [],
   "source": [
    "import torch\n",
    "from torch import nn\n",
    "from torch.utils.data import DataLoader\n",
    "from torchvision import datasets\n",
    "from torchvision.transforms import ToTensor"
   ]
  },
  {
   "cell_type": "code",
   "execution_count": 2,
   "metadata": {},
   "outputs": [
    {
     "data": {
      "text/plain": [
       "True"
      ]
     },
     "execution_count": 2,
     "metadata": {},
     "output_type": "execute_result"
    }
   ],
   "source": [
    "torch.cuda.is_available()"
   ]
  },
  {
   "cell_type": "code",
   "execution_count": 3,
   "metadata": {},
   "outputs": [],
   "source": [
    "training_data = datasets.FashionMNIST(\n",
    "    root = './data',\n",
    "    train = True,\n",
    "    download=True,\n",
    "    transform=ToTensor()\n",
    ")\n",
    "\n",
    "test_data = datasets.FashionMNIST(\n",
    "    root=\"./data\",\n",
    "    train=False,\n",
    "    download=True,\n",
    "    transform=ToTensor()\n",
    ")"
   ]
  },
  {
   "cell_type": "code",
   "execution_count": 4,
   "metadata": {},
   "outputs": [
    {
     "name": "stdout",
     "output_type": "stream",
     "text": [
      "Shape of X [N, C, H, W]: torch.Size([64, 1, 28, 28])\n",
      "Shape of y: torch.Size([64]) torch.int64\n"
     ]
    }
   ],
   "source": [
    "batch_size = 64\n",
    "\n",
    "# Daata Loaders\n",
    "\n",
    "train_dataloader = DataLoader(training_data, batch_size=batch_size)\n",
    "test_dataloader = DataLoader(test_data, batch_size=batch_size)\n",
    "\n",
    "for x, y in test_dataloader:\n",
    "    print(f\"Shape of X [N, C, H, W]: {x.shape}\")\n",
    "    print(f\"Shape of y: {y.shape} {y.dtype}\")\n",
    "    break"
   ]
  },
  {
   "cell_type": "code",
   "execution_count": 12,
   "metadata": {},
   "outputs": [],
   "source": [
    "labels_map = {\n",
    "    0: \"T-Shirt\",\n",
    "    1: \"Trouser\",\n",
    "    2: \"Pullover\",\n",
    "    3: \"Dress\",\n",
    "    4: \"Coat\",\n",
    "    5: \"Sandal\",\n",
    "    6: \"Shirt\",\n",
    "    7: \"Sneaker\",\n",
    "    8: \"Bag\",\n",
    "    9: \"Ankle Boot\",\n",
    "}"
   ]
  },
  {
   "cell_type": "code",
   "execution_count": 13,
   "metadata": {},
   "outputs": [
    {
     "data": {
      "image/png": "[encoded data removed]",
      "text/plain": [
       "<Figure size 800x800 with 9 Axes>"
      ]
     },
     "metadata": {},
     "output_type": "display_data"
    }
   ],
   "source": [
    "import matplotlib.pyplot as plt\n",
    "\n",
    "figure = plt.figure(figsize=(8, 8))\n",
    "cols, rows = 3, 3\n",
    "for i in range(1, cols * rows + 1):\n",
    "    sample_idx = torch.randint(len(training_data), size=(1,)).item()\n",
    "    img, label = training_data[sample_idx]\n",
    "    figure.add_subplot(rows, cols, i)\n",
    "    plt.title(labels_map[label])\n",
    "    plt.axis(\"off\")\n",
    "    plt.imshow(img.squeeze(), cmap=\"gray\")\n",
    "plt.show()"
   ]
  },
  {
   "cell_type": "code",
   "execution_count": 5,
   "metadata": {},
   "outputs": [
    {
     "name": "stdout",
     "output_type": "stream",
     "text": [
      "Using cuda device\n"
     ]
    }
   ],
   "source": [
    "# Get Gpu or Cpu device for training\n",
    "\n",
    "device = (\n",
    "    \"cuda\"\n",
    "    if torch.cuda.is_available()\n",
    "    else \"cpu\"\n",
    ")\n",
    "\n",
    "print(f\"Using {device} device\")"
   ]
  },
  {
   "cell_type": "code",
   "execution_count": 6,
   "metadata": {},
   "outputs": [],
   "source": [
    "# Define Model\n",
    "class NeuralNetwork(nn.Module):\n",
    "    def __init__(self, *args, **kwargs) -> None:\n",
    "        super().__init__(*args, **kwargs)\n",
    "\n",
    "        self.flatten = nn.Flatten()\n",
    "        \n",
    "        self.liner_relu_stack = nn.Sequential(\n",
    "            nn.Linear(28*28, 512),\n",
    "            nn.ReLU(),\n",
    "            nn.Linear(512, 512),\n",
    "            nn.ReLU(),\n",
    "            nn.Linear(512, 10)\n",
    "        )\n",
    "\n",
    "    def forward(self, x):\n",
    "        x = self.flatten(x)\n",
    "        logits = self.liner_relu_stack(x)\n",
    "        return logits"
   ]
  },
  {
   "cell_type": "code",
   "execution_count": 7,
   "metadata": {},
   "outputs": [
    {
     "name": "stdout",
     "output_type": "stream",
     "text": [
      "NeuralNetwork(\n",
      "  (flatten): Flatten(start_dim=1, end_dim=-1)\n",
      "  (liner_relu_stack): Sequential(\n",
      "    (0): Linear(in_features=784, out_features=512, bias=True)\n",
      "    (1): ReLU()\n",
      "    (2): Linear(in_features=512, out_features=512, bias=True)\n",
      "    (3): ReLU()\n",
      "    (4): Linear(in_features=512, out_features=10, bias=True)\n",
      "  )\n",
      ")\n"
     ]
    }
   ],
   "source": [
    "model = NeuralNetwork().to(device)\n",
    "print(model)"
   ]
  },
  {
   "cell_type": "code",
   "execution_count": 14,
   "metadata": {},
   "outputs": [
    {
     "name": "stdout",
     "output_type": "stream",
     "text": [
      "Predicted Class: tensor([6], device='cuda:0')\n"
     ]
    }
   ],
   "source": [
    "x = torch.rand(1, 28, 28, device=device)\n",
    "logits = model(x)\n",
    "pred_probab = nn.Softmax(dim=1)(logits)\n",
    "y_pred = pred_probab.argmax(1)\n",
    "print(f\"Predicted Class: {y_pred}\")"
   ]
  },
  {
   "cell_type": "code",
   "execution_count": 8,
   "metadata": {},
   "outputs": [],
   "source": [
    "# Define perameters of loss function and optimizer\n",
    "loss_fn = nn.CrossEntropyLoss()\n",
    "optimizer = torch.optim.SGD(model.parameters(), lr=1e-3)"
   ]
  },
  {
   "cell_type": "code",
   "execution_count": 15,
   "metadata": {},
   "outputs": [],
   "source": [
    "def train(dataloader, model, loss_fn, optimizer):\n",
    "    size=len(dataloader.dataset)\n",
    "    model.train()\n",
    "\n",
    "    for batch, (x,y) in enumerate(dataloader):\n",
    "        x, y = x.to(device), y.to(device)\n",
    "\n",
    "        # Compute Prediction Erro\n",
    "        pred =  model(x)\n",
    "        loss = loss_fn(pred, y)\n",
    "\n",
    "        # BACKPROAGATION\n",
    "        loss.backward()\n",
    "        optimizer.step()\n",
    "        optimizer.zero_grad()\n",
    "\n",
    "        if batch % 100 == 0:\n",
    "            loss, current = loss.item(), (batch+1) * len(x)\n",
    "            print(f\"Loss: {loss:>7f}  [{current:>5d} / {size:>5d}]\")"
   ]
  },
  {
   "cell_type": "code",
   "execution_count": 18,
   "metadata": {},
   "outputs": [],
   "source": [
    "# def test(dataloader, model, loss_fn):\n",
    "#     size = len(dataloader.dataset)\n",
    "#     num_batches = len(dataloader)\n",
    "#     model.eval()\n",
    "#     test_loss, correct = 0\n",
    "\n",
    "#     with torch.no_grad():\n",
    "#         for x, y in dataloader:\n",
    "#             x, y = x.to(device), y.to(device)\n",
    "#             pred = model(x)\n",
    "#             test_loss += loss_fn(pred, y).item()\n",
    "#             correct += (pred.argmax(1) == y).type(torch.float).sum().item()\n",
    "    \n",
    "#     test_loss /= num_batches\n",
    "#     correct /= size\n",
    "#     print(f\"Test Error: \\n Accuracy: {(100*correct):>0.1f}%, Avg Loss: {test_loss:>8f}\\n\")\n",
    "\n"
   ]
  },
  {
   "cell_type": "code",
   "execution_count": 22,
   "metadata": {},
   "outputs": [],
   "source": [
    "def test(dataloader, model, loss_fn):\n",
    "    size = len(dataloader.dataset)\n",
    "    num_batches = len(dataloader)\n",
    "    model.eval()\n",
    "    test_loss, correct = 0, 0\n",
    "    with torch.no_grad():\n",
    "        for x, y in dataloader:\n",
    "            x, y = x.to(device), y.to(device)\n",
    "            pred = model(x)\n",
    "            test_loss += loss_fn(pred, y).item()\n",
    "            correct += (pred.argmax(1) == y).type(torch.float).sum().item()\n",
    "    test_loss /= num_batches\n",
    "    correct /= size\n",
    "    print(f\"Test Error: \\n Accuracy: {(100*correct):>0.1f}%, Avg loss: {test_loss:>8f} \\n\")"
   ]
  },
  {
   "cell_type": "code",
   "execution_count": 23,
   "metadata": {},
   "outputs": [
    {
     "name": "stdout",
     "output_type": "stream",
     "text": [
      "Epoch 1\n",
      "----------------------------------\n",
      "Loss: 1.329010  [   64 / 60000]\n",
      "Loss: 1.315607  [ 6464 / 60000]\n",
      "Loss: 1.143937  [12864 / 60000]\n",
      "Loss: 1.251128  [19264 / 60000]\n",
      "Loss: 1.125235  [25664 / 60000]\n",
      "Loss: 1.150216  [32064 / 60000]\n",
      "Loss: 1.189766  [38464 / 60000]\n",
      "Loss: 1.110926  [44864 / 60000]\n",
      "Loss: 1.145402  [51264 / 60000]\n",
      "Loss: 1.075483  [57664 / 60000]\n",
      "Test Error: \n",
      " Accuracy: 65.0%, Avg loss: 1.090415 \n",
      "\n",
      "Epoch 2\n",
      "----------------------------------\n",
      "Loss: 1.158693  [   64 / 60000]\n",
      "Loss: 1.166876  [ 6464 / 60000]\n",
      "Loss: 0.981666  [12864 / 60000]\n",
      "Loss: 1.114319  [19264 / 60000]\n",
      "Loss: 0.985577  [25664 / 60000]\n",
      "Loss: 1.018101  [32064 / 60000]\n",
      "Loss: 1.070631  [38464 / 60000]\n",
      "Loss: 0.997854  [44864 / 60000]\n",
      "Loss: 1.030564  [51264 / 60000]\n",
      "Loss: 0.975477  [57664 / 60000]\n",
      "Test Error: \n",
      " Accuracy: 65.9%, Avg loss: 0.984871 \n",
      "\n",
      "Epoch 3\n",
      "----------------------------------\n",
      "Loss: 1.039342  [   64 / 60000]\n",
      "Loss: 1.069236  [ 6464 / 60000]\n",
      "Loss: 0.869392  [12864 / 60000]\n",
      "Loss: 1.021967  [19264 / 60000]\n",
      "Loss: 0.895868  [25664 / 60000]\n",
      "Loss: 0.923400  [32064 / 60000]\n",
      "Loss: 0.991014  [38464 / 60000]\n",
      "Loss: 0.923185  [44864 / 60000]\n",
      "Loss: 0.949763  [51264 / 60000]\n",
      "Loss: 0.907449  [57664 / 60000]\n",
      "Test Error: \n",
      " Accuracy: 67.1%, Avg loss: 0.911811 \n",
      "\n",
      "Epoch 4\n",
      "----------------------------------\n",
      "Loss: 0.950884  [   64 / 60000]\n",
      "Loss: 1.000336  [ 6464 / 60000]\n",
      "Loss: 0.787664  [12864 / 60000]\n",
      "Loss: 0.955788  [19264 / 60000]\n",
      "Loss: 0.835217  [25664 / 60000]\n",
      "Loss: 0.853073  [32064 / 60000]\n",
      "Loss: 0.933710  [38464 / 60000]\n",
      "Loss: 0.872576  [44864 / 60000]\n",
      "Loss: 0.890955  [51264 / 60000]\n",
      "Loss: 0.857966  [57664 / 60000]\n",
      "Test Error: \n",
      " Accuracy: 68.1%, Avg loss: 0.858723 \n",
      "\n",
      "Epoch 5\n",
      "----------------------------------\n",
      "Loss: 0.882543  [   64 / 60000]\n",
      "Loss: 0.948344  [ 6464 / 60000]\n",
      "Loss: 0.725466  [12864 / 60000]\n",
      "Loss: 0.906509  [19264 / 60000]\n",
      "Loss: 0.791767  [25664 / 60000]\n",
      "Loss: 0.799858  [32064 / 60000]\n",
      "Loss: 0.890112  [38464 / 60000]\n",
      "Loss: 0.837060  [44864 / 60000]\n",
      "Loss: 0.846986  [51264 / 60000]\n",
      "Loss: 0.819841  [57664 / 60000]\n",
      "Test Error: \n",
      " Accuracy: 69.4%, Avg loss: 0.818399 \n",
      "\n",
      "Epoch 6\n",
      "----------------------------------\n",
      "Loss: 0.827759  [   64 / 60000]\n",
      "Loss: 0.906563  [ 6464 / 60000]\n",
      "Loss: 0.676522  [12864 / 60000]\n",
      "Loss: 0.868448  [19264 / 60000]\n",
      "Loss: 0.758943  [25664 / 60000]\n",
      "Loss: 0.758877  [32064 / 60000]\n",
      "Loss: 0.854942  [38464 / 60000]\n",
      "Loss: 0.810972  [44864 / 60000]\n",
      "Loss: 0.812997  [51264 / 60000]\n",
      "Loss: 0.789194  [57664 / 60000]\n",
      "Test Error: \n",
      " Accuracy: 70.8%, Avg loss: 0.786308 \n",
      "\n",
      "Epoch 7\n",
      "----------------------------------\n",
      "Loss: 0.782462  [   64 / 60000]\n",
      "Loss: 0.871120  [ 6464 / 60000]\n",
      "Loss: 0.636712  [12864 / 60000]\n",
      "Loss: 0.838073  [19264 / 60000]\n",
      "Loss: 0.732895  [25664 / 60000]\n",
      "Loss: 0.726988  [32064 / 60000]\n",
      "Loss: 0.824996  [38464 / 60000]\n",
      "Loss: 0.790668  [44864 / 60000]\n",
      "Loss: 0.785587  [51264 / 60000]\n",
      "Loss: 0.763463  [57664 / 60000]\n",
      "Test Error: \n",
      " Accuracy: 72.1%, Avg loss: 0.759698 \n",
      "\n",
      "Epoch 8\n",
      "----------------------------------\n",
      "Loss: 0.743919  [   64 / 60000]\n",
      "Loss: 0.839924  [ 6464 / 60000]\n",
      "Loss: 0.603607  [12864 / 60000]\n",
      "Loss: 0.813107  [19264 / 60000]\n",
      "Loss: 0.711419  [25664 / 60000]\n",
      "Loss: 0.701365  [32064 / 60000]\n",
      "Loss: 0.798666  [38464 / 60000]\n",
      "Loss: 0.773866  [44864 / 60000]\n",
      "Loss: 0.762817  [51264 / 60000]\n",
      "Loss: 0.741077  [57664 / 60000]\n",
      "Test Error: \n",
      " Accuracy: 73.2%, Avg loss: 0.736806 \n",
      "\n",
      "Epoch 9\n",
      "----------------------------------\n",
      "Loss: 0.710341  [   64 / 60000]\n",
      "Loss: 0.811713  [ 6464 / 60000]\n",
      "Loss: 0.575417  [12864 / 60000]\n",
      "Loss: 0.791983  [19264 / 60000]\n",
      "Loss: 0.693313  [25664 / 60000]\n",
      "Loss: 0.680200  [32064 / 60000]\n",
      "Loss: 0.774923  [38464 / 60000]\n",
      "Loss: 0.759358  [44864 / 60000]\n",
      "Loss: 0.743239  [51264 / 60000]\n",
      "Loss: 0.720984  [57664 / 60000]\n",
      "Test Error: \n",
      " Accuracy: 74.1%, Avg loss: 0.716522 \n",
      "\n",
      "Epoch 10\n",
      "----------------------------------\n",
      "Loss: 0.680727  [   64 / 60000]\n",
      "Loss: 0.785940  [ 6464 / 60000]\n",
      "Loss: 0.550848  [12864 / 60000]\n",
      "Loss: 0.773498  [19264 / 60000]\n",
      "Loss: 0.677647  [25664 / 60000]\n",
      "Loss: 0.662378  [32064 / 60000]\n",
      "Loss: 0.753014  [38464 / 60000]\n",
      "Loss: 0.746479  [44864 / 60000]\n",
      "Loss: 0.726369  [51264 / 60000]\n",
      "Loss: 0.702677  [57664 / 60000]\n",
      "Test Error: \n",
      " Accuracy: 74.9%, Avg loss: 0.698231 \n",
      "\n",
      "Training Finished!\n"
     ]
    }
   ],
   "source": [
    "epochs = 10\n",
    "\n",
    "for i in range(epochs):\n",
    "    print(f\"Epoch {i+1}\\n----------------------------------\")\n",
    "    train(train_dataloader, model, loss_fn, optimizer)\n",
    "    test(test_dataloader, model, loss_fn)\n",
    "\n",
    "print(\"Training Finished!\")"
   ]
  },
  {
   "cell_type": "code",
   "execution_count": 24,
   "metadata": {},
   "outputs": [
    {
     "name": "stdout",
     "output_type": "stream",
     "text": [
      "Saved PyTorch Model State to model.pth\n"
     ]
    }
   ],
   "source": [
    "torch.save(model.state_dict(), \"model.pth\")\n",
    "print(\"Saved PyTorch Model State to model.pth\")"
   ]
  },
  {
   "cell_type": "code",
   "execution_count": 25,
   "metadata": {},
   "outputs": [
    {
     "data": {
      "text/plain": [
       "<All keys matched successfully>"
      ]
     },
     "execution_count": 25,
     "metadata": {},
     "output_type": "execute_result"
    }
   ],
   "source": [
    "model = NeuralNetwork().to(device)\n",
    "model.load_state_dict(torch.load(\"model.pth\"))"
   ]
  },
  {
   "cell_type": "code",
   "execution_count": 26,
   "metadata": {},
   "outputs": [],
   "source": [
    "classes = [\n",
    "    \"T-shirt/top\",\n",
    "    \"Trouser\",\n",
    "    \"Pullover\",\n",
    "    \"Dress\",\n",
    "    \"Coat\",\n",
    "    \"Sandal\",\n",
    "    \"Shirt\",\n",
    "    \"Sneaker\",\n",
    "    \"Bag\",\n",
    "    \"Ankle boot\",\n",
    "]"
   ]
  },
  {
   "cell_type": "code",
   "execution_count": 27,
   "metadata": {},
   "outputs": [
    {
     "name": "stdout",
     "output_type": "stream",
     "text": [
      "Predicted: \"Ankle boot\", Actual: \"Ankle boot\"\n"
     ]
    }
   ],
   "source": [
    "model.eval()\n",
    "x, y = test_data[0][0], test_data[0][1]\n",
    "with torch.no_grad():\n",
    "    x = x.to(device)\n",
    "    pred = model(x)\n",
    "    predicted, actual = classes[pred[0].argmax(0)], classes[y]\n",
    "    print(f'Predicted: \"{predicted}\", Actual: \"{actual}\"')"
   ]
  },
  {
   "cell_type": "code",
   "execution_count": null,
   "metadata": {},
   "outputs": [],
   "source": []
  }
 ],
 "metadata": {
  "kernelspec": {
   "display_name": "Python 3",
   "language": "python",
   "name": "python3"
  },
  "language_info": {
   "codemirror_mode": {
    "name": "ipython",
    "version": 3
   },
   "file_extension": ".py",
   "mimetype": "text/x-python",
   "name": "python",
   "nbconvert_exporter": "python",
   "pygments_lexer": "ipython3",
   "version": "3.10.7"
  },
  "orig_nbformat": 4,
  "vscode": {
   "interpreter": {
    "hash": "3196968d684371006099b3d55edeef8ed90365227a30deaef86e5d4aa8519be0"
   }
  }
 },
 "nbformat": 4,
 "nbformat_minor": 2
}
